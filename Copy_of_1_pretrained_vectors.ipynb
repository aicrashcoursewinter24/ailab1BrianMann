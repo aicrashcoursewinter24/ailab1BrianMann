{
  "nbformat": 4,
  "nbformat_minor": 0,
  "metadata": {
    "colab": {
      "provenance": [],
      "include_colab_link": true
    },
    "kernelspec": {
      "name": "python3",
      "display_name": "Python 3"
    },
    "accelerator": "GPU"
  },
  "cells": [
    {
      "cell_type": "markdown",
      "metadata": {
        "id": "view-in-github",
        "colab_type": "text"
      },
      "source": [
        "<a href=\"https://colab.research.google.com/github/aicrashcoursewinter24/ailab1BrianMann/blob/lab3/Copy_of_1_pretrained_vectors.ipynb\" target=\"_parent\"><img src=\"https://colab.research.google.com/assets/colab-badge.svg\" alt=\"Open In Colab\"/></a>"
      ]
    },
    {
      "cell_type": "markdown",
      "metadata": {
        "id": "GkZM-nI_5Qug"
      },
      "source": [
        "# Part I: Pre-trained embeddings\n",
        "\n",
        "We are going to build some PyTorch models that are commonly used for text classification.  We also need to build out some infrastructure to run these models.\n",
        "\n",
        "Once we have the models and the boilerplate stuff out of the way, we can see the impact of pre-trained embeddings for classification tasks. Pre-training methods like word2vec are context-limited language models whose goal is to predict a word given a fixed context, or a fixed context given a word. Pre-trained embeddings are particularly useful for smaller datasets.\n",
        "\n",
        "Most of this code is inspired or derived from [Baseline](https://github.com/dpressel/baseline/) (Pressel et al, 2018), an open source project for building and evaluating NLP models across a variety of NLP tasks.  For this tutorial, we will only concern ourselves with Text Classification using a few useful models.\n",
        "\n",
        "## Word Embeddings in NLP\n",
        "\n",
        "We start our models with what are called \"one-hot\" vectors.  This is notionally a sparse vector with length `|V|` where V is our vocabulary, and where only the word representated at this temporal location is a 1.  The rest are zeros.\n",
        "\n",
        "![onehot](https://www.tensorflow.org/images/feature_columns/categorical_column_with_vocabulary.jpg)\n",
        "\n",
        "These vectors are not truly represented as a vector, but as an array of indices (in PyTorch, they are `torch.LongTensor`s), one for each word's index in the vocab.  This representation is not particularly helpful in DNNs since we want continuous representations for each word.\n",
        "\n",
        "![indices](https://www.tensorflow.org/images/feature_columns/categorical_column_with_identity.jpg)\n",
        "\n",
        "The general idea of an embedding is that we want to project from a large one-hot vector to a compact, distributed representation with smaller dimensionality.  We can look at this as a matrix multiply between a one-hot vector `|V|` and a weight matrix to a lower dimension of size `|D|`.  Since only a single vector value in the one-hot vector is on at a time, this matrix multiply is simplified to an address lookup in that matrix.\n",
        "\n",
        "![LUT](https://cdn-images-1.medium.com/max/800/1*fZj1Hk1mhS5pIMv3ZrpLYw.png)\n",
        "\n",
        "\n",
        "In PyTorch, this is called an `nn.Embedding`.  In fact, in Torch7, this was called a `nn.LookupTable` which may have actually been a better name, but which seems to have fallen out of favor in DNN toolkits.  In this tutorial we are going to refer to multiple types of embeddings, and in this case, we are referring to word vectors, which are typically lookup table embeddings.\n",
        "\n",
        "Embeddings make up lowest layer of a typical DNN for text and we will feed their output to some pooling mechanism yielding a fixed length representation, followed by some number of fully connected layers.\n",
        "\n",
        "### Pre-training with Word2Vec\n",
        "\n",
        "There has been a large amount of research that has gone into building distributed representations for words through pre-training. Some widely used algorithms in NLP include Word2Vec, GloVe and fastText.  For instance, word2vec is actually 2 different algorithms with 2 different objectives.  They can be thought of a fixed context window non-causal LMs, but they are shallow models and extremely fast to train\n",
        "\n",
        "![word2vec](https://deeplearning4j.org/img/word2vec_diagrams.png)\n",
        "\n",
        "\n",
        "* **CBOW objective** given all words in a fixed context window except the middle word, predict the middle word\n",
        "* **SkipGram objective**: given a word in a fixed context window, predict all other words in that window\n",
        "\n",
        "Once we have trained these models, the learned distributed representation matrix can be plugged right in as our embedding weights and this often improves the model significantly.\n",
        "\n",
        "Before we begin, we will download some data that can be used for our experiments"
      ]
    },
    {
      "cell_type": "code",
      "metadata": {
        "id": "rIAhO5RRf4jL",
        "colab": {
          "base_uri": "https://localhost:8080/"
        },
        "outputId": "ec4ff844-ea11-4553-ccf2-b88961086bc6"
      },
      "source": [
        "!wget https://www.dropbox.com/s/7jyi4pi894bh2qh/sst2.tar.gz?dl=1\n",
        "!tar -xzf 'sst2.tar.gz?dl=1'\n",
        "\n",
        "!wget https://www.dropbox.com/s/08km2ean8bkt7p3/trec.tar.gz?dl=1\n",
        "!tar -xzf 'trec.tar.gz?dl=1'\n",
        "\n",
        "!wget https://www.dropbox.com/s/699kgut7hdb5tg9/GoogleNews-vectors-negative300.bin.gz?dl=1\n",
        "!mv 'GoogleNews-vectors-negative300.bin.gz?dl=1' GoogleNews-vectors-negative300.bin.gz\n",
        "!gunzip GoogleNews-vectors-negative300.bin.gz"
      ],
      "execution_count": 1,
      "outputs": [
        {
          "output_type": "stream",
          "name": "stdout",
          "text": [
            "--2024-01-10 21:11:07--  https://www.dropbox.com/s/7jyi4pi894bh2qh/sst2.tar.gz?dl=1\n",
            "Resolving www.dropbox.com (www.dropbox.com)... 162.125.1.18, 2620:100:6016:18::a27d:112\n",
            "Connecting to www.dropbox.com (www.dropbox.com)|162.125.1.18|:443... connected.\n",
            "HTTP request sent, awaiting response... 302 Found\n",
            "Location: /s/dl/7jyi4pi894bh2qh/sst2.tar.gz [following]\n",
            "--2024-01-10 21:11:07--  https://www.dropbox.com/s/dl/7jyi4pi894bh2qh/sst2.tar.gz\n",
            "Reusing existing connection to www.dropbox.com:443.\n",
            "HTTP request sent, awaiting response... 302 Found\n",
            "Location: https://uceb7edfbbd1bd8902282ffa5c4a.dl.dropboxusercontent.com/cd/0/get/CLE2WRgOJpVvV_RnGCsmKtCWU4PRwB284XAnBoDU9dGlQENDBHD7Iay7OdHQUPr30L9MywYowqtD4NQ-kaROzzvQHaT9SOkkfJVvXHnG9vnvbIi8jqVrRDEqarqj_bPDLBawkYqMwELe-4tQRrXplJli/file?dl=1# [following]\n",
            "--2024-01-10 21:11:07--  https://uceb7edfbbd1bd8902282ffa5c4a.dl.dropboxusercontent.com/cd/0/get/CLE2WRgOJpVvV_RnGCsmKtCWU4PRwB284XAnBoDU9dGlQENDBHD7Iay7OdHQUPr30L9MywYowqtD4NQ-kaROzzvQHaT9SOkkfJVvXHnG9vnvbIi8jqVrRDEqarqj_bPDLBawkYqMwELe-4tQRrXplJli/file?dl=1\n",
            "Resolving uceb7edfbbd1bd8902282ffa5c4a.dl.dropboxusercontent.com (uceb7edfbbd1bd8902282ffa5c4a.dl.dropboxusercontent.com)... 162.125.1.15, 2620:100:6016:15::a27d:10f\n",
            "Connecting to uceb7edfbbd1bd8902282ffa5c4a.dl.dropboxusercontent.com (uceb7edfbbd1bd8902282ffa5c4a.dl.dropboxusercontent.com)|162.125.1.15|:443... connected.\n",
            "HTTP request sent, awaiting response... 200 OK\n",
            "Length: 1759259 (1.7M) [application/binary]\n",
            "Saving to: ‘sst2.tar.gz?dl=1’\n",
            "\n",
            "sst2.tar.gz?dl=1    100%[===================>]   1.68M  3.72MB/s    in 0.5s    \n",
            "\n",
            "2024-01-10 21:11:08 (3.72 MB/s) - ‘sst2.tar.gz?dl=1’ saved [1759259/1759259]\n",
            "\n",
            "--2024-01-10 21:11:08--  https://www.dropbox.com/s/08km2ean8bkt7p3/trec.tar.gz?dl=1\n",
            "Resolving www.dropbox.com (www.dropbox.com)... 162.125.1.18, 2620:100:6016:18::a27d:112\n",
            "Connecting to www.dropbox.com (www.dropbox.com)|162.125.1.18|:443... connected.\n",
            "HTTP request sent, awaiting response... 302 Found\n",
            "Location: /s/dl/08km2ean8bkt7p3/trec.tar.gz [following]\n",
            "--2024-01-10 21:11:09--  https://www.dropbox.com/s/dl/08km2ean8bkt7p3/trec.tar.gz\n",
            "Reusing existing connection to www.dropbox.com:443.\n",
            "HTTP request sent, awaiting response... 302 Found\n",
            "Location: https://uc0662c29315ada103a1803d3df2.dl.dropboxusercontent.com/cd/0/get/CLHyquiL6QuKoiTN-1X1pHZqJMXU5okitoMGFEnn8b7I88mVEqRAKjQ_9ABOWBVXgdMTrE4eP5hhMrfGtTh6AoQnX7pqdnipf94PZuBekm1jPwFVd0YKOuc2OUj-Y_mvfbO2PG7btXlGDqgDjMv0RwoI/file?dl=1# [following]\n",
            "--2024-01-10 21:11:09--  https://uc0662c29315ada103a1803d3df2.dl.dropboxusercontent.com/cd/0/get/CLHyquiL6QuKoiTN-1X1pHZqJMXU5okitoMGFEnn8b7I88mVEqRAKjQ_9ABOWBVXgdMTrE4eP5hhMrfGtTh6AoQnX7pqdnipf94PZuBekm1jPwFVd0YKOuc2OUj-Y_mvfbO2PG7btXlGDqgDjMv0RwoI/file?dl=1\n",
            "Resolving uc0662c29315ada103a1803d3df2.dl.dropboxusercontent.com (uc0662c29315ada103a1803d3df2.dl.dropboxusercontent.com)... 162.125.1.15, 2620:100:6016:15::a27d:10f\n",
            "Connecting to uc0662c29315ada103a1803d3df2.dl.dropboxusercontent.com (uc0662c29315ada103a1803d3df2.dl.dropboxusercontent.com)|162.125.1.15|:443... connected.\n",
            "HTTP request sent, awaiting response... 200 OK\n",
            "Length: 117253 (115K) [application/binary]\n",
            "Saving to: ‘trec.tar.gz?dl=1’\n",
            "\n",
            "trec.tar.gz?dl=1    100%[===================>] 114.50K  --.-KB/s    in 0.02s   \n",
            "\n",
            "2024-01-10 21:11:09 (6.03 MB/s) - ‘trec.tar.gz?dl=1’ saved [117253/117253]\n",
            "\n",
            "--2024-01-10 21:11:09--  https://www.dropbox.com/s/699kgut7hdb5tg9/GoogleNews-vectors-negative300.bin.gz?dl=1\n",
            "Resolving www.dropbox.com (www.dropbox.com)... 162.125.1.18, 2620:100:6016:18::a27d:112\n",
            "Connecting to www.dropbox.com (www.dropbox.com)|162.125.1.18|:443... connected.\n",
            "HTTP request sent, awaiting response... 302 Found\n",
            "Location: /s/dl/699kgut7hdb5tg9/GoogleNews-vectors-negative300.bin.gz [following]\n",
            "--2024-01-10 21:11:10--  https://www.dropbox.com/s/dl/699kgut7hdb5tg9/GoogleNews-vectors-negative300.bin.gz\n",
            "Reusing existing connection to www.dropbox.com:443.\n",
            "HTTP request sent, awaiting response... 302 Found\n",
            "Location: https://uc9dc05f09a82f55c884fbd3046e.dl.dropboxusercontent.com/cd/0/get/CLF5wFP-w6n1ieMfKKMPXX1kUJ-s6Rfnjvkotx4cxrC5oR3E7G_UTIcGp9KOnw_Dg5OSRbLrgm6jzkalUmOHSm9dZBtk8kREEWrFqQIfI5c1U5iw84-FNfWi4vcUDOmoE0Q/file?dl=1# [following]\n",
            "--2024-01-10 21:11:10--  https://uc9dc05f09a82f55c884fbd3046e.dl.dropboxusercontent.com/cd/0/get/CLF5wFP-w6n1ieMfKKMPXX1kUJ-s6Rfnjvkotx4cxrC5oR3E7G_UTIcGp9KOnw_Dg5OSRbLrgm6jzkalUmOHSm9dZBtk8kREEWrFqQIfI5c1U5iw84-FNfWi4vcUDOmoE0Q/file?dl=1\n",
            "Resolving uc9dc05f09a82f55c884fbd3046e.dl.dropboxusercontent.com (uc9dc05f09a82f55c884fbd3046e.dl.dropboxusercontent.com)... 162.125.1.15, 2620:100:6016:15::a27d:10f\n",
            "Connecting to uc9dc05f09a82f55c884fbd3046e.dl.dropboxusercontent.com (uc9dc05f09a82f55c884fbd3046e.dl.dropboxusercontent.com)|162.125.1.15|:443... connected.\n",
            "HTTP request sent, awaiting response... 200 OK\n",
            "Length: 1743563840 (1.6G) [application/binary]\n",
            "Saving to: ‘GoogleNews-vectors-negative300.bin.gz?dl=1’\n",
            "\n",
            "GoogleNews-vectors- 100%[===================>]   1.62G  54.0MB/s    in 34s     \n",
            "\n",
            "2024-01-10 21:11:45 (48.7 MB/s) - ‘GoogleNews-vectors-negative300.bin.gz?dl=1’ saved [1743563840/1743563840]\n",
            "\n"
          ]
        }
      ]
    },
    {
      "cell_type": "markdown",
      "metadata": {
        "id": "OiXst1zUqOa4"
      },
      "source": []
    },
    {
      "cell_type": "markdown",
      "metadata": {
        "id": "u_ZR8A0x6XQh"
      },
      "source": [
        "## First, lets do some fun stuff\n",
        "\n",
        "We will start by building out some models that we will reuse later in the tutorial.  First, we will build a convolutional neural network (CNN) that can classify text. Basically CNNs learn a kernel that can be used to filter images or text.  An example of 2D filtering*:\n",
        "\n",
        "![2D filtering](https://cdn-images-1.medium.com/max/1600/0*9J3MK1gd2zrFDzDN.gif)\n",
        "\n",
        "In the case of text filtering, we have a one-dimensional filter operation like this*:\n",
        "\n",
        "![1D filtering](http://cs231n.github.io/assets/cnn/stride.jpeg)\n",
        "\n",
        "This type of model has been used often in text, including by [Collobert et al 2011](https://ronan.collobert.com/pub/matos/2011_nlp_jmlr.pdf), but we will implement a multiple parallel filter variation of this introduced by [Kim 2014](https://www.aclweb.org/anthology/D14-1181).\n",
        "\n",
        "### Convolutional Neural Network for Text Classification\n",
        "\n",
        "We are using PyTorch, so every layer we have is going to inherit `nn.Module`.\n",
        "\n",
        "#### Convolutions (actually cross correlations)\n",
        "\n",
        "The first characteristic of this model is that we will have multiple convolutional filter lengths, and some number of filters associated with each length.  For each filter of length `K` convolved with a signal of length `T`, the output signal will be `T - K + 1`.  To handle the ends of the signal where the filter is hanging off (e.g. centered at 0), we will add some zero-padding.  So if we have a filter of length `K=3`, we want to zero-pad the temporal signal by a single pad value on both ends of the signal.\n",
        "\n",
        "We are going to support multiple parallel filters, so we can add a `torch.nn.Conv1d` for each filter length, followed by a `torch.nn.ReLU` activation layer.  Since we have more than one of these, we will create a `nn.ModuleList` to track them.  When we call `forward()`, the data will be oriented as $$B \\times C \\times T$$ where `B` is the batch size,  `C` is the number of hidden units and `T` is the temporal length of the vector.\n",
        "\n",
        "#### Pooling\n",
        "\n",
        "Both of the papers mentioned above do max-over-time pooling over the features.  For each feature map in the vector, we simply select the maximum value for that feature map and concatenate all of these together.  Our $$B \\times C \\times T$$ vector is then going to be reduced along the time dimension to $$B \\times C$$\n",
        "\n",
        "*Images courtesy of http://cs231n.github.io/convolutional-networks/"
      ]
    },
    {
      "cell_type": "code",
      "metadata": {
        "id": "PTT1BSfB9kKO"
      },
      "source": [
        "import numpy as np\n",
        "import torch\n",
        "import torch.nn as nn\n",
        "import torch.nn.functional as F\n",
        "from typing import List, Tuple\n",
        "import os\n",
        "import io\n",
        "import re\n",
        "import codecs\n",
        "from collections import Counter\n",
        "from torch.utils.data import DataLoader, TensorDataset"
      ],
      "execution_count": 2,
      "outputs": []
    },
    {
      "cell_type": "code",
      "metadata": {
        "id": "rD0S18xj9qi9"
      },
      "source": [
        "class ParallelConv(nn.Module):\n",
        "\n",
        "    def __init__(self, input_dims, filters, dropout=0.5):\n",
        "        super().__init__()\n",
        "        convs = []\n",
        "        self.output_dims = sum([t[1] for t in filters])\n",
        "        for (filter_length, output_dims) in filters:\n",
        "            pad = filter_length//2\n",
        "            conv = nn.Sequential(\n",
        "                nn.Conv1d(input_dims, output_dims, filter_length, padding=pad),\n",
        "                nn.ReLU()\n",
        "            )\n",
        "            convs.append(conv)\n",
        "        # Add the module so its managed correctly\n",
        "        self.convs = nn.ModuleList(convs)\n",
        "        self.conv_drop = nn.Dropout(dropout)\n",
        "\n",
        "\n",
        "    def forward(self, input_bct):\n",
        "        mots = []\n",
        "        for conv in self.convs:\n",
        "            # In Conv1d, data BxCxT, max over time\n",
        "            conv_out = conv(input_bct)\n",
        "            mot, _ = conv_out.max(2)\n",
        "            mots.append(mot)\n",
        "        mots = torch.cat(mots, 1)\n",
        "        return self.conv_drop(mots)\n",
        "\n",
        "class ConvClassifier(nn.Module):\n",
        "\n",
        "    def __init__(self, embeddings, num_classes, embed_dims,\n",
        "                 filters=[(2, 100), (3, 100), (4, 100)],\n",
        "                 dropout=0.5, hidden_units=[]):\n",
        "        super().__init__()\n",
        "        self.embeddings = embeddings\n",
        "        self.dropout = nn.Dropout(dropout)\n",
        "        self.convs = ParallelConv(embed_dims, filters, dropout)\n",
        "\n",
        "        input_units = self.convs.output_dims\n",
        "        output_units = self.convs.output_dims\n",
        "        sequence = []\n",
        "        for h in hidden_units:\n",
        "            sequence.append(self.dropout(nn.Linear(input_units, h)))\n",
        "            input_units = h\n",
        "            output_units = h\n",
        "\n",
        "        sequence.append(nn.Linear(output_units, num_classes))\n",
        "        self.outputs = nn.Sequential(*sequence)\n",
        "\n",
        "    def forward(self, inputs):\n",
        "        one_hots, lengths = inputs\n",
        "        embed = self.dropout(self.embeddings(one_hots))\n",
        "        embed = embed.transpose(1, 2).contiguous()\n",
        "        hidden = self.convs(embed)\n",
        "        linear = self.outputs(hidden)\n",
        "        return F.log_softmax(linear, dim=-1)\n"
      ],
      "execution_count": 3,
      "outputs": []
    },
    {
      "cell_type": "markdown",
      "metadata": {
        "id": "lBN5z1huBPqr"
      },
      "source": [
        "### LSTM Model\n",
        "\n",
        "Our second model that we will explore uses Long Short-Term Memory (LSTM) units, which are a form of Recurrent Neural Networks.  These models tend to perform extremely well on NLP tasks.  Text classification is a simple case, where we give our inputs and take the final LSTM output as a form of pooling.  That looks like the **Many-to-One** image in this taxonomy from [Andrej Karpathy's 2015 blog post on using RNNs for character-level language modeling](https://karpathy.github.io/2015/05/21/rnn-effectiveness/)\n",
        "\n",
        "![Many-to-one LSTM](https://karpathy.github.io/assets/rnn/diags.jpeg)"
      ]
    },
    {
      "cell_type": "code",
      "metadata": {
        "id": "aeQUDe_BCOYV"
      },
      "source": [
        "class LSTMClassifier(nn.Module):\n",
        "\n",
        "    def __init__(self, embeddings, num_classes, embed_dims, rnn_units, rnn_layers=1, dropout=0.5, hidden_units=[]):\n",
        "        super().__init__()\n",
        "        self.embeddings = embeddings\n",
        "        self.dropout = nn.Dropout(dropout)\n",
        "        self.rnn = torch.nn.LSTM(embed_dims,\n",
        "                                 rnn_units,\n",
        "                                 rnn_layers,\n",
        "                                 dropout=dropout,\n",
        "                                 bidirectional=False,\n",
        "                                 batch_first=False)\n",
        "        nn.init.orthogonal_(self.rnn.weight_hh_l0)\n",
        "        nn.init.orthogonal_(self.rnn.weight_ih_l0)\n",
        "        sequence = []\n",
        "        input_units = rnn_units\n",
        "        output_units = rnn_units\n",
        "        for h in hidden_units:\n",
        "            sequence.append(nn.Linear(input_units, h))\n",
        "            input_units = h\n",
        "            output_units = h\n",
        "\n",
        "        sequence.append(nn.Linear(output_units, num_classes))\n",
        "        self.outputs = nn.Sequential(*sequence)\n",
        "\n",
        "\n",
        "    def forward(self, inputs):\n",
        "        one_hots, lengths = inputs\n",
        "        embed = self.dropout(self.embeddings(one_hots))\n",
        "        embed = embed.transpose(0, 1)\n",
        "        packed = torch.nn.utils.rnn.pack_padded_sequence(embed, lengths.tolist())\n",
        "        _, hidden = self.rnn(packed)\n",
        "        hidden = hidden[0].view(hidden[0].shape[1:])\n",
        "        linear = self.outputs(hidden)\n",
        "        return F.log_softmax(linear, dim=-1)\n"
      ],
      "execution_count": 4,
      "outputs": []
    },
    {
      "cell_type": "markdown",
      "metadata": {
        "id": "JK47ZmfPCgyz"
      },
      "source": [
        "## Training our model\n",
        "\n",
        "To set our model up for training (and evaluation), we need a loss function, some metrics, and an optimizer, along with some training data.\n",
        "\n",
        "### Defining Metrics\n",
        "\n",
        "For classification problems, most things we would like to know can be defined in terms of a confusion matrix.\n",
        "\n",
        "![Confusion Matrix](https://scikit-learn.org/stable/_images/sphx_glr_plot_confusion_matrix_001.png)\n",
        "\n",
        "The class below implements a confusion matrix and provides metrics associated using it.  This implementation is taken from verbatim from Baseline (https://github.com/dpressel/baseline/blob/master/python/baseline/confusion.py)"
      ]
    },
    {
      "cell_type": "code",
      "metadata": {
        "id": "kDOWjUTGQaAH"
      },
      "source": [
        "\n",
        "class ConfusionMatrix:\n",
        "    \"\"\"Confusion matrix with metrics\n",
        "\n",
        "    This class accumulates classification output, and tracks it in a confusion matrix.\n",
        "    Metrics are available that use the confusion matrix\n",
        "    \"\"\"\n",
        "    def __init__(self, labels):\n",
        "        \"\"\"Constructor with input labels\n",
        "\n",
        "        :param labels: Either a dictionary (`k=int,v=str`) or an array of labels\n",
        "        \"\"\"\n",
        "        if type(labels) is dict:\n",
        "            self.labels = []\n",
        "            for i in range(len(labels)):\n",
        "                self.labels.append(labels[i])\n",
        "        else:\n",
        "            self.labels = labels\n",
        "        nc = len(self.labels)\n",
        "        self._cm = np.zeros((nc, nc), dtype=np.int)\n",
        "\n",
        "    def add(self, truth, guess):\n",
        "        \"\"\"Add a single value to the confusion matrix based off `truth` and `guess`\n",
        "\n",
        "        :param truth: The real `y` value (or ground truth label)\n",
        "        :param guess: The guess for `y` value (or assertion)\n",
        "        \"\"\"\n",
        "\n",
        "        self._cm[truth, guess] += 1\n",
        "\n",
        "    def __str__(self):\n",
        "        values = []\n",
        "        width = max(8, max(len(x) for x in self.labels) + 1)\n",
        "        for i, label in enumerate([''] + self.labels):\n",
        "            values += [\"{:>{width}}\".format(label, width=width+1)]\n",
        "        values += ['\\n']\n",
        "        for i, label in enumerate(self.labels):\n",
        "            values += [\"{:>{width}}\".format(label, width=width+1)]\n",
        "            for j in range(len(self.labels)):\n",
        "                values += [\"{:{width}d}\".format(self._cm[i, j], width=width + 1)]\n",
        "            values += ['\\n']\n",
        "        values += ['\\n']\n",
        "        return ''.join(values)\n",
        "\n",
        "    def save(self, outfile):\n",
        "        ordered_fieldnames = OrderedDict([(\"labels\", None)] + [(l, None) for l in self.labels])\n",
        "        with open(outfile, 'w') as f:\n",
        "            dw = csv.DictWriter(f, delimiter=',', fieldnames=ordered_fieldnames)\n",
        "            dw.writeheader()\n",
        "            for index, row in enumerate(self._cm):\n",
        "                row_dict = {l: row[i] for i, l in enumerate(self.labels)}\n",
        "                row_dict.update({\"labels\": self.labels[index]})\n",
        "                dw.writerow(row_dict)\n",
        "\n",
        "    def reset(self):\n",
        "        \"\"\"Reset the matrix\n",
        "        \"\"\"\n",
        "        self._cm *= 0\n",
        "\n",
        "    def get_correct(self):\n",
        "        \"\"\"Get the diagonals of the confusion matrix\n",
        "\n",
        "        :return: (``int``) Number of correct classifications\n",
        "        \"\"\"\n",
        "        return self._cm.diagonal().sum()\n",
        "\n",
        "    def get_total(self):\n",
        "        \"\"\"Get total classifications\n",
        "\n",
        "        :return: (``int``) total classifications\n",
        "        \"\"\"\n",
        "        return self._cm.sum()\n",
        "\n",
        "    def get_acc(self):\n",
        "        \"\"\"Get the accuracy\n",
        "\n",
        "        :return: (``float``) accuracy\n",
        "        \"\"\"\n",
        "        return float(self.get_correct())/self.get_total()\n",
        "\n",
        "    def get_recall(self):\n",
        "        \"\"\"Get the recall\n",
        "\n",
        "        :return: (``float``) recall\n",
        "        \"\"\"\n",
        "        total = np.sum(self._cm, axis=1)\n",
        "        total = (total == 0) + total\n",
        "        return np.diag(self._cm) / total.astype(float)\n",
        "\n",
        "    def get_support(self):\n",
        "        return np.sum(self._cm, axis=1)\n",
        "\n",
        "    def get_precision(self):\n",
        "        \"\"\"Get the precision\n",
        "        :return: (``float``) precision\n",
        "        \"\"\"\n",
        "\n",
        "        total = np.sum(self._cm, axis=0)\n",
        "        total = (total == 0) + total\n",
        "        return np.diag(self._cm) / total.astype(float)\n",
        "\n",
        "    def get_mean_precision(self):\n",
        "        \"\"\"Get the mean precision across labels\n",
        "\n",
        "        :return: (``float``) mean precision\n",
        "        \"\"\"\n",
        "        return np.mean(self.get_precision())\n",
        "\n",
        "    def get_weighted_precision(self):\n",
        "        return np.sum(self.get_precision() * self.get_support())/float(self.get_total())\n",
        "\n",
        "    def get_mean_recall(self):\n",
        "        \"\"\"Get the mean recall across labels\n",
        "\n",
        "        :return: (``float``) mean recall\n",
        "        \"\"\"\n",
        "        return np.mean(self.get_recall())\n",
        "\n",
        "    def get_weighted_recall(self):\n",
        "        return np.sum(self.get_recall() * self.get_support())/float(self.get_total())\n",
        "\n",
        "    def get_weighted_f(self, beta=1):\n",
        "        return np.sum(self.get_class_f(beta) * self.get_support())/float(self.get_total())\n",
        "\n",
        "    def get_macro_f(self, beta=1):\n",
        "        \"\"\"Get the macro F_b, with adjustable beta (defaulting to F1)\n",
        "\n",
        "        :param beta: (``float``) defaults to 1 (F1)\n",
        "        :return: (``float``) macro F_b\n",
        "        \"\"\"\n",
        "        if beta < 0:\n",
        "            raise Exception('Beta must be greater than 0')\n",
        "        return np.mean(self.get_class_f(beta))\n",
        "\n",
        "    def get_class_f(self, beta=1):\n",
        "        p = self.get_precision()\n",
        "        r = self.get_recall()\n",
        "\n",
        "        b = beta*beta\n",
        "        d = (b * p + r)\n",
        "        d = (d == 0) + d\n",
        "\n",
        "        return (b + 1) * p * r / d\n",
        "\n",
        "    def get_f(self, beta=1):\n",
        "        \"\"\"Get 2 class F_b, with adjustable beta (defaulting to F1)\n",
        "\n",
        "        :param beta: (``float``) defaults to 1 (F1)\n",
        "        :return: (``float``) 2-class F_b\n",
        "        \"\"\"\n",
        "        p = self.get_precision()[1]\n",
        "        r = self.get_recall()[1]\n",
        "        if beta < 0:\n",
        "            raise Exception('Beta must be greater than 0')\n",
        "        d = (beta*beta * p + r)\n",
        "        if d == 0:\n",
        "            return 0\n",
        "        return (beta*beta + 1) * p * r / d\n",
        "\n",
        "    def get_all_metrics(self):\n",
        "        \"\"\"Make a map of metrics suitable for reporting, keyed by metric name\n",
        "\n",
        "        :return: (``dict``) Map of metrics keyed by metric names\n",
        "        \"\"\"\n",
        "        metrics = {'acc': self.get_acc()}\n",
        "        # If 2 class, assume second class is positive AKA 1\n",
        "        if len(self.labels) == 2:\n",
        "            metrics['precision'] = self.get_precision()[1]\n",
        "            metrics['recall'] = self.get_recall()[1]\n",
        "            metrics['f1'] = self.get_f(1)\n",
        "        else:\n",
        "            metrics['mean_precision'] = self.get_mean_precision()\n",
        "            metrics['mean_recall'] = self.get_mean_recall()\n",
        "            metrics['macro_f1'] = self.get_macro_f(1)\n",
        "            metrics['weighted_precision'] = self.get_weighted_precision()\n",
        "            metrics['weighted_recall'] = self.get_weighted_recall()\n",
        "            metrics['weighted_f1'] = self.get_weighted_f(1)\n",
        "        return metrics\n",
        "\n",
        "    def add_batch(self, truth, guess):\n",
        "        \"\"\"Add a batch of data to the confusion matrix\n",
        "\n",
        "        :param truth: The truth tensor\n",
        "        :param guess: The guess tensor\n",
        "        :return:\n",
        "        \"\"\"\n",
        "        for truth_i, guess_i in zip(truth, guess):\n",
        "            self.add(truth_i, guess_i)\n"
      ],
      "execution_count": 5,
      "outputs": []
    },
    {
      "cell_type": "markdown",
      "metadata": {
        "id": "IOfC-eQR92j9"
      },
      "source": [
        "Our `Trainer` is simple, but it gets the job done.  We will use PyTorch's `DataLoader` to feed our batches to the trainer.  The `run()` method cycles a single epoch.\n",
        "For every batch, we will do a stochastic gradient minibatch update, and we return the loss and the predictions and ground truth back to the `run()` method for tabulation"
      ]
    },
    {
      "cell_type": "code",
      "metadata": {
        "id": "FaQ2BraAR-qI"
      },
      "source": [
        "\n",
        "class Trainer:\n",
        "    def __init__(self, optimizer: torch.optim.Optimizer):\n",
        "        self.optimizer = optimizer\n",
        "\n",
        "    def run(self, model, labels, train, loss, batch_size):\n",
        "        model.train()\n",
        "        train_loader = DataLoader(train, batch_size=batch_size, shuffle=True)\n",
        "\n",
        "        cm = ConfusionMatrix(labels)\n",
        "\n",
        "        for batch in train_loader:\n",
        "            loss_value, y_pred, y_actual = self.update(model, loss, batch)\n",
        "            _, best = y_pred.max(1)\n",
        "            yt = y_actual.cpu().int().numpy()\n",
        "            yp = best.cpu().int().numpy()\n",
        "            cm.add_batch(yt, yp)\n",
        "\n",
        "        print(cm.get_all_metrics())\n",
        "        return cm\n",
        "\n",
        "    def update(self, model, loss, batch):\n",
        "        self.optimizer.zero_grad()\n",
        "        x, lengths, y = batch\n",
        "        lengths, perm_idx = lengths.sort(0, descending=True)\n",
        "        x_sorted = x[perm_idx]\n",
        "        y_sorted = y[perm_idx]\n",
        "        y_sorted = y_sorted.to('cuda:0')\n",
        "        inputs = (x_sorted.to('cuda:0'), lengths)\n",
        "        y_pred = model(inputs)\n",
        "        loss_value = loss(y_pred, y_sorted)\n",
        "        loss_value.backward()\n",
        "        self.optimizer.step()\n",
        "        return loss_value.item(), y_pred, y_sorted"
      ],
      "execution_count": 6,
      "outputs": []
    },
    {
      "cell_type": "markdown",
      "metadata": {
        "id": "kTV2epU5SZlg"
      },
      "source": [
        "After training a epoch, we would like to test the validation performance.  Our evaluator class is similar to our `Trainer`, but it doesnt update our model -- it just gives us a way to evaluate the model on data"
      ]
    },
    {
      "cell_type": "code",
      "metadata": {
        "id": "baYbdBXqSoa6"
      },
      "source": [
        "\n",
        "class Evaluator:\n",
        "    def __init__(self):\n",
        "        pass\n",
        "\n",
        "    def run(self, model, labels, dataset, batch_size=1):\n",
        "        model.eval()\n",
        "        valid_loader = DataLoader(dataset, batch_size=batch_size)\n",
        "        cm = ConfusionMatrix(labels)\n",
        "        for batch in valid_loader:\n",
        "            y_pred, y_actual = self.inference(model, batch)\n",
        "            _, best = y_pred.max(1)\n",
        "            yt = y_actual.cpu().int().numpy()\n",
        "            yp = best.cpu().int().numpy()\n",
        "            cm.add_batch(yt, yp)\n",
        "        return cm\n",
        "\n",
        "    def inference(self, model, batch):\n",
        "        with torch.no_grad():\n",
        "            x, lengths, y = batch\n",
        "            lengths, perm_idx = lengths.sort(0, descending=True)\n",
        "            x_sorted = x[perm_idx]\n",
        "            y_sorted = y[perm_idx]\n",
        "            y_sorted = y_sorted.to('cuda:0')\n",
        "            inputs = (x_sorted.to('cuda:0'), lengths)\n",
        "            y_pred = model(inputs)\n",
        "            return y_pred, y_sorted\n"
      ],
      "execution_count": 7,
      "outputs": []
    },
    {
      "cell_type": "markdown",
      "metadata": {
        "id": "ySvFi6OVRnf5"
      },
      "source": [
        "We can encapsulate training multiple epochs and testing in a single function.   The best model is defined in terms of some metric -- here accuracy, and we only save the checkpoints when we improve on the model.  This is called early stopping, and is particularly helpful on smaller datasets"
      ]
    },
    {
      "cell_type": "code",
      "metadata": {
        "id": "mOhAZmODS3N8"
      },
      "source": [
        "def fit(model, labels, optimizer, loss, epochs, batch_size, train, valid, test):\n",
        "\n",
        "    trainer = Trainer(optimizer)\n",
        "    evaluator = Evaluator()\n",
        "    best_acc = 0.0\n",
        "\n",
        "    for epoch in range(epochs):\n",
        "        print('EPOCH {}'.format(epoch + 1))\n",
        "        print('=================================')\n",
        "        print('Training Results')\n",
        "        cm = trainer.run(model, labels, train, loss, batch_size)\n",
        "        print('Validation Results')\n",
        "        cm = evaluator.run(model, labels, valid)\n",
        "        print(cm.get_all_metrics())\n",
        "        if cm.get_acc() > best_acc:\n",
        "            print('New best model {:.2f}'.format(cm.get_acc()))\n",
        "            best_acc = cm.get_acc()\n",
        "            torch.save(model.state_dict(), './checkpoint.pth')\n",
        "    if test:\n",
        "        model.load_state_dict(torch.load('./checkpoint.pth'))\n",
        "        cm = evaluator.run(model, labels, test)\n",
        "        print('Final result')\n",
        "        print(cm.get_all_metrics())\n",
        "    return cm.get_acc()"
      ],
      "execution_count": 8,
      "outputs": []
    },
    {
      "cell_type": "markdown",
      "metadata": {
        "id": "mp1tjK47TCe_"
      },
      "source": [
        "### A Reader for our Data\n",
        "\n",
        "We need a reader to load our data from files and put it into a `Dataset`.\n",
        "\n",
        "The reader needs to perform a few steps\n",
        "\n",
        "* **read in sentences and labels**: it should convert the sentences into tokens and record a vocabulary of the labels\n",
        "* **vectorize tokens**: it should convert tokens into tensors that comprise rows in our `TensorDataset`\n",
        "* **tabulate the vocabulary**: if no vectorizer is provided, we need to build a vocab of attested words.  If a vectorizer is provided upfront, we dont need this step"
      ]
    },
    {
      "cell_type": "code",
      "metadata": {
        "id": "Uzf5KiQ1UFRU"
      },
      "source": [
        "\n",
        "def whitespace_tokenizer(words: str) -> List[str]:\n",
        "    return words.split()\n",
        "\n",
        "def sst2_tokenizer(words: str) -> List[str]:\n",
        "    REPLACE = { \"'s\": \" 's \",\n",
        "                \"'ve\": \" 've \",\n",
        "                \"n't\": \" n't \",\n",
        "                \"'re\": \" 're \",\n",
        "                \"'d\": \" 'd \",\n",
        "                \"'ll\": \" 'll \",\n",
        "                \",\": \" , \",\n",
        "                \"!\": \" ! \",\n",
        "                }\n",
        "    words = words.lower()\n",
        "    words = re.sub(r\"[^A-Za-z0-9(),!?\\'\\`]\", \" \", words)\n",
        "    for k, v in REPLACE.items():\n",
        "            words = words.replace(k, v)\n",
        "    return [w.strip() for w in words.split()]\n",
        "\n",
        "\n",
        "class Reader:\n",
        "\n",
        "    def __init__(self, files, lowercase=True, min_freq=0,\n",
        "                 tokenizer=sst2_tokenizer, vectorizer=None):\n",
        "        self.lowercase = lowercase\n",
        "        self.tokenizer = tokenizer\n",
        "        build_vocab = vectorizer is None\n",
        "        self.vectorizer = vectorizer if vectorizer else self._vectorizer\n",
        "        x = Counter()\n",
        "        y = Counter()\n",
        "        for file_name in files:\n",
        "            if file_name is None:\n",
        "                continue\n",
        "            with codecs.open(file_name, encoding='utf-8', mode='r') as f:\n",
        "                for line in f:\n",
        "                    words = line.split()\n",
        "                    y.update(words[0])\n",
        "\n",
        "                    if build_vocab:\n",
        "                        words = self.tokenizer(' '.join(words[1:]))\n",
        "                        words = words if not self.lowercase else [w.lower() for w in words]\n",
        "                        x.update(words)\n",
        "        self.labels = list(y.keys())\n",
        "\n",
        "        if build_vocab:\n",
        "            x = dict(filter(lambda cnt: cnt[1] >= min_freq, x.items()))\n",
        "            alpha = list(x.keys())\n",
        "            alpha.sort()\n",
        "            self.vocab = {w: i+1 for i, w in enumerate(alpha)}\n",
        "            self.vocab['[PAD]'] = 0\n",
        "\n",
        "        self.labels.sort()\n",
        "\n",
        "    def _vectorizer(self, words: List[str]) -> List[int]:\n",
        "        return [self.vocab.get(w, 0) for w in words]\n",
        "\n",
        "    def load(self, filename: str) -> TensorDataset:\n",
        "        label2index = {l: i for i, l in enumerate(self.labels)}\n",
        "        xs = []\n",
        "        lengths = []\n",
        "        ys = []\n",
        "        with codecs.open(filename, encoding='utf-8', mode='r') as f:\n",
        "            for line in f:\n",
        "                words = line.split()\n",
        "                ys.append(label2index[words[0]])\n",
        "                words = self.tokenizer(' '.join(words[1:]))\n",
        "                words = words if not self.lowercase else [w.lower() for w in words]\n",
        "                vec = self.vectorizer(words)\n",
        "                lengths.append(len(vec))\n",
        "                xs.append(torch.tensor(vec, dtype=torch.long))\n",
        "        x_tensor = torch.nn.utils.rnn.pad_sequence(xs, batch_first=True)\n",
        "        lengths_tensor = torch.tensor(lengths, dtype=torch.long)\n",
        "        y_tensor = torch.tensor(ys, dtype=torch.long)\n",
        "        return TensorDataset(x_tensor, lengths_tensor, y_tensor)\n"
      ],
      "execution_count": 9,
      "outputs": []
    },
    {
      "cell_type": "markdown",
      "metadata": {
        "id": "3fMHlMQCUslk"
      },
      "source": [
        "### Pre-trained Embeddings\n",
        "\n",
        "We would like to investigate how pre-training embeddings helps our models improve.  To do this, we need a mechanism to load in pre-trained embeddings and convert them into PyTorch's `nn.Embedding` object.  Specifically, we wish to support `word2vec`, `GloVe` and `fastText` embeddings. Rest-assured, these are simple file formats, and you do not need any 3rd party dependencies to read them in!  We will do it by hand.\n",
        "\n",
        "For binary files, the first line contains 2 numbers delimited by a space.  The first number is the vocab size and the second is the embedding dimension.  We then read each line, splitting it by a space and reading the first portion as the vocabulary (token) and the second portion as a binary vector.\n",
        "\n",
        "For text files, the first line may contain 2 numbers as in the binary file, but for `GloVe` files, this is omitted.  We can check if the first line contains the dimensions, and if it doesnt, we can just read in the first vector to figure out its dimension (again its space delimited, but the vector is also space delimited, so we split along the first space to find the token).\n",
        "\n",
        "Notice that in this code, we have already created an alphabet that we will pass in for each key, so if that word is present in the embedding file, we will use its value, otherwise, we will initialize the vector randomly."
      ]
    },
    {
      "cell_type": "code",
      "metadata": {
        "id": "w2nKdPwIVbFn"
      },
      "source": [
        "def init_embeddings(vocab_size, embed_dim, unif):\n",
        "    return np.random.uniform(-unif, unif, (vocab_size, embed_dim))\n",
        "\n",
        "\n",
        "class EmbeddingsReader:\n",
        "\n",
        "    @staticmethod\n",
        "    def from_text(filename, vocab, unif=0.25):\n",
        "\n",
        "        with io.open(filename, \"r\", encoding=\"utf-8\") as f:\n",
        "            for i, line in enumerate(f):\n",
        "                line = line.rstrip(\"\\n \")\n",
        "                values = line.split(\" \")\n",
        "\n",
        "                if i == 0:\n",
        "                    # fastText style\n",
        "                    if len(values) == 2:\n",
        "                        weight = init_embeddings(len(vocab), values[1], unif)\n",
        "                        continue\n",
        "                    # glove style\n",
        "                    else:\n",
        "                        weight = init_embeddings(len(vocab), len(values[1:]), unif)\n",
        "                word = values[0]\n",
        "                if word in vocab:\n",
        "                    vec = np.asarray(values[1:], dtype=np.float32)\n",
        "                    weight[vocab[word]] = vec\n",
        "        if '[PAD]' in vocab:\n",
        "            weight[vocab['[PAD]']] = 0.0\n",
        "\n",
        "        embeddings = nn.Embedding(weight.shape[0], weight.shape[1])\n",
        "        embeddings.weight = nn.Parameter(torch.from_numpy(weight).float())\n",
        "        return embeddings, weight.shape[1]\n",
        "\n",
        "    @staticmethod\n",
        "    def from_binary(filename, vocab, unif=0.25):\n",
        "        def read_word(f):\n",
        "\n",
        "            s = bytearray()\n",
        "            ch = f.read(1)\n",
        "\n",
        "            while ch != b' ':\n",
        "                s.extend(ch)\n",
        "                ch = f.read(1)\n",
        "            s = s.decode('utf-8')\n",
        "            # Only strip out normal space and \\n not other spaces which are words.\n",
        "            return s.strip(' \\n')\n",
        "\n",
        "        vocab_size = len(vocab)\n",
        "        with io.open(filename, \"rb\") as f:\n",
        "            header = f.readline()\n",
        "            file_vocab_size, embed_dim = map(int, header.split())\n",
        "            weight = init_embeddings(len(vocab), embed_dim, unif)\n",
        "            if '[PAD]' in vocab:\n",
        "                weight[vocab['[PAD]']] = 0.0\n",
        "            width = 4 * embed_dim\n",
        "            for i in range(file_vocab_size):\n",
        "                word = read_word(f)\n",
        "                raw = f.read(width)\n",
        "                if word in vocab:\n",
        "                    vec = np.fromstring(raw, dtype=np.float32)\n",
        "                    weight[vocab[word]] = vec\n",
        "        embeddings = nn.Embedding(weight.shape[0], weight.shape[1])\n",
        "        embeddings.weight = nn.Parameter(torch.from_numpy(weight).float())\n",
        "        return embeddings, embed_dim\n",
        "\n"
      ],
      "execution_count": 10,
      "outputs": []
    },
    {
      "cell_type": "markdown",
      "metadata": {
        "id": "SOeo4W0zSvws"
      },
      "source": [
        "### Now to run some stuff!\n",
        "\n",
        "We did a lot of work to set things up, but its pretty boilerplate and we will reuse a lot of it.  So far, we made 2 classifiers we can run along with code to train and evaluate our models, and a reader to load our data.\n"
      ]
    },
    {
      "cell_type": "code",
      "metadata": {
        "id": "ahoBQQ-LddMr"
      },
      "source": [
        "BASE = 'sst2'\n",
        "TRAIN = os.path.join(BASE, 'stsa.binary.phrases.train')\n",
        "VALID = os.path.join(BASE, 'stsa.binary.dev')\n",
        "TEST = os.path.join(BASE, 'stsa.binary.test')\n",
        "PRETRAINED_EMBEDDINGS_FILE = 'GoogleNews-vectors-negative300.bin'\n",
        "\n"
      ],
      "execution_count": 11,
      "outputs": []
    },
    {
      "cell_type": "markdown",
      "metadata": {
        "id": "kbWM-ycVeL5b"
      },
      "source": [
        "Lets read in our datasets:"
      ]
    },
    {
      "cell_type": "code",
      "metadata": {
        "id": "tCwkXTO7eQEx"
      },
      "source": [
        "r = Reader((TRAIN, VALID, TEST,))\n",
        "train = r.load(TRAIN)\n",
        "valid = r.load(VALID)\n",
        "test = r.load(TEST)"
      ],
      "execution_count": 12,
      "outputs": []
    },
    {
      "cell_type": "markdown",
      "metadata": {
        "id": "tJXsq3-xiATu"
      },
      "source": [
        "## Model trained with randomly initialized embeddings\n",
        "\n",
        "First, we are going to train a model without any pretrained embeddings for 10 epochs.  During training, we will see the training and validation performance, and after the final epoch, we will see the results from the best model trained on these epochs."
      ]
    },
    {
      "cell_type": "code",
      "metadata": {
        "id": "okeGF78yh3y_",
        "outputId": "338b008f-f64e-4621-d2dc-e24acbd3783f",
        "colab": {
          "base_uri": "https://localhost:8080/"
        }
      },
      "source": [
        "embed_dim = 300\n",
        "embeddings = nn.Embedding(len(r.vocab), embed_dim)\n",
        "model  = ConvClassifier(embeddings, len(r.labels), embed_dim)\n",
        "\n",
        "num_params = sum(p.numel() for p in model.parameters() if p.requires_grad)\n",
        "print(f\"Model has {num_params} parameters\")\n",
        "\n",
        "\n",
        "model.to('cuda:0')\n",
        "loss = torch.nn.NLLLoss()\n",
        "loss = loss.to('cuda:0')\n",
        "\n",
        "learnable_params = [p for p in model.parameters() if p.requires_grad]\n",
        "optimizer = torch.optim.Adadelta(learnable_params, lr=1.0)\n",
        "\n",
        "fit(model, r.labels, optimizer, loss, 10, 50, train, valid, test)\n"
      ],
      "execution_count": 13,
      "outputs": [
        {
          "output_type": "stream",
          "name": "stdout",
          "text": [
            "Model has 5442302 parameters\n",
            "EPOCH 1\n",
            "=================================\n",
            "Training Results\n"
          ]
        },
        {
          "output_type": "stream",
          "name": "stderr",
          "text": [
            "<ipython-input-5-d4e4d1ff9cc0>:19: DeprecationWarning: `np.int` is a deprecated alias for the builtin `int`. To silence this warning, use `int` by itself. Doing this will not modify any behavior and is safe. When replacing `np.int`, you may wish to use e.g. `np.int64` or `np.int32` to specify the precision. If you wish to review your current use, check the release note link for additional information.\n",
            "Deprecated in NumPy 1.20; for more details and guidance: https://numpy.org/devdocs/release/1.20.0-notes.html#deprecations\n",
            "  self._cm = np.zeros((nc, nc), dtype=np.int)\n"
          ]
        },
        {
          "output_type": "stream",
          "name": "stdout",
          "text": [
            "{'acc': 0.5876093086108548, 'precision': 0.6142618214991638, 'recall': 0.6692065595494451, 'f1': 0.6405581100364675}\n",
            "Validation Results\n",
            "{'acc': 0.6674311926605505, 'precision': 0.8208333333333333, 'recall': 0.4436936936936937, 'f1': 0.5760233918128655}\n",
            "New best model 0.67\n",
            "EPOCH 2\n",
            "=================================\n",
            "Training Results\n",
            "{'acc': 0.633229817699874, 'precision': 0.6503127945839403, 'recall': 0.718284862396176, 'f1': 0.6826108955979086}\n",
            "Validation Results\n",
            "{'acc': 0.6995412844036697, 'precision': 0.7286432160804021, 'recall': 0.6531531531531531, 'f1': 0.6888361045130641}\n",
            "New best model 0.70\n",
            "EPOCH 3\n",
            "=================================\n",
            "Training Results\n",
            "{'acc': 0.6606333077792649, 'precision': 0.673503171020101, 'recall': 0.7413332071274759, 'f1': 0.7057922364656318}\n",
            "Validation Results\n",
            "{'acc': 0.7041284403669725, 'precision': 0.6608996539792388, 'recall': 0.8603603603603603, 'f1': 0.7475538160469667}\n",
            "New best model 0.70\n",
            "EPOCH 4\n",
            "=================================\n",
            "Training Results\n",
            "{'acc': 0.6820597445459389, 'precision': 0.693000347161951, 'recall': 0.7557916656806835, 'f1': 0.7230353039718384}\n",
            "Validation Results\n",
            "{'acc': 0.7098623853211009, 'precision': 0.7480519480519481, 'recall': 0.6486486486486487, 'f1': 0.6948130277442702}\n",
            "New best model 0.71\n",
            "EPOCH 5\n",
            "=================================\n",
            "Training Results\n",
            "{'acc': 0.6984446667792779, 'precision': 0.7069456212387842, 'recall': 0.7700134882510234, 'f1': 0.7371330192098586}\n",
            "Validation Results\n",
            "{'acc': 0.731651376146789, 'precision': 0.7900552486187845, 'recall': 0.6441441441441441, 'f1': 0.7096774193548386}\n",
            "New best model 0.73\n",
            "EPOCH 6\n",
            "=================================\n",
            "Training Results\n",
            "{'acc': 0.7095282025961201, 'precision': 0.7175490753289905, 'recall': 0.7767576137627488, 'f1': 0.7459803420260213}\n",
            "Validation Results\n",
            "{'acc': 0.7431192660550459, 'precision': 0.7226720647773279, 'recall': 0.8040540540540541, 'f1': 0.7611940298507462}\n",
            "New best model 0.74\n",
            "EPOCH 7\n",
            "=================================\n",
            "Training Results\n",
            "{'acc': 0.7243149127480152, 'precision': 0.7319137680201031, 'recall': 0.7857261175134291, 'f1': 0.7578659058487874}\n",
            "Validation Results\n",
            "{'acc': 0.7442660550458715, 'precision': 0.7268993839835729, 'recall': 0.7972972972972973, 'f1': 0.7604726100966702}\n",
            "New best model 0.74\n",
            "EPOCH 8\n",
            "=================================\n",
            "Training Results\n",
            "{'acc': 0.7330985823988774, 'precision': 0.7397977210493772, 'recall': 0.7927542062045955, 'f1': 0.7653610225831877}\n",
            "Validation Results\n",
            "{'acc': 0.75, 'precision': 0.7017857142857142, 'recall': 0.8851351351351351, 'f1': 0.7828685258964143}\n",
            "New best model 0.75\n",
            "EPOCH 9\n",
            "=================================\n",
            "Training Results\n",
            "{'acc': 0.7466898818882292, 'precision': 0.7531358420069388, 'recall': 0.8013440923826877, 'f1': 0.7764924389209268}\n",
            "Validation Results\n",
            "{'acc': 0.7064220183486238, 'precision': 0.6506410256410257, 'recall': 0.9144144144144144, 'f1': 0.7602996254681648}\n",
            "EPOCH 10\n",
            "=================================\n",
            "Training Results\n",
            "{'acc': 0.7500552227751719, 'precision': 0.7566494994760663, 'recall': 0.8030951986559076, 'f1': 0.7791808246854625}\n",
            "Validation Results\n",
            "{'acc': 0.75, 'precision': 0.8138888888888889, 'recall': 0.6599099099099099, 'f1': 0.7288557213930348}\n",
            "Final result\n",
            "{'acc': 0.7287204832509611, 'precision': 0.6796536796536796, 'recall': 0.8635863586358636, 'f1': 0.7606589147286822}\n"
          ]
        },
        {
          "output_type": "execute_result",
          "data": {
            "text/plain": [
              "0.7287204832509611"
            ]
          },
          "metadata": {},
          "execution_count": 13
        }
      ]
    },
    {
      "cell_type": "markdown",
      "metadata": {
        "id": "a54pDMAQjXY-"
      },
      "source": [
        "Yikes, thats not very encouraging!  What about our LSTM?"
      ]
    },
    {
      "cell_type": "code",
      "metadata": {
        "id": "f8s4lSIqjc6G",
        "outputId": "6e337a97-0484-4cc3-9d8d-65e41393ead8",
        "colab": {
          "base_uri": "https://localhost:8080/"
        }
      },
      "source": [
        "embed_dim = 300\n",
        "embeddings = nn.Embedding(len(r.vocab), embed_dim)\n",
        "model  = LSTMClassifier(embeddings, len(r.labels), embed_dim, 100, hidden_units=[100])\n",
        "\n",
        "num_params = sum(p.numel() for p in model.parameters() if p.requires_grad)\n",
        "print(f\"Model has {num_params} parameters\")\n",
        "\n",
        "\n",
        "model.to('cuda:0')\n",
        "loss = torch.nn.NLLLoss()\n",
        "loss = loss.to('cuda:0')\n",
        "\n",
        "learnable_params = [p for p in model.parameters() if p.requires_grad]\n",
        "optimizer = torch.optim.Adadelta(learnable_params, lr=1.0)\n",
        "\n",
        "fit(model, r.labels, optimizer, loss, 10, 50, train, valid, test)\n"
      ],
      "execution_count": 14,
      "outputs": [
        {
          "output_type": "stream",
          "name": "stderr",
          "text": [
            "/usr/local/lib/python3.10/dist-packages/torch/nn/modules/rnn.py:82: UserWarning: dropout option adds dropout after all but last recurrent layer, so non-zero dropout expects num_layers greater than 1, but got dropout=0.5 and num_layers=1\n",
            "  warnings.warn(\"dropout option adds dropout after all but last \"\n",
            "<ipython-input-5-d4e4d1ff9cc0>:19: DeprecationWarning: `np.int` is a deprecated alias for the builtin `int`. To silence this warning, use `int` by itself. Doing this will not modify any behavior and is safe. When replacing `np.int`, you may wish to use e.g. `np.int64` or `np.int32` to specify the precision. If you wish to review your current use, check the release note link for additional information.\n",
            "Deprecated in NumPy 1.20; for more details and guidance: https://numpy.org/devdocs/release/1.20.0-notes.html#deprecations\n",
            "  self._cm = np.zeros((nc, nc), dtype=np.int)\n"
          ]
        },
        {
          "output_type": "stream",
          "name": "stdout",
          "text": [
            "Model has 5342502 parameters\n",
            "EPOCH 1\n",
            "=================================\n",
            "Training Results\n",
            "{'acc': 0.6346201322747885, 'precision': 0.6417955352307599, 'recall': 0.757187817979602, 'f1': 0.6947327282991012}\n",
            "Validation Results\n",
            "{'acc': 0.7591743119266054, 'precision': 0.7839805825242718, 'recall': 0.7274774774774775, 'f1': 0.7546728971962617}\n",
            "New best model 0.76\n",
            "EPOCH 2\n",
            "=================================\n",
            "Training Results\n",
            "{'acc': 0.7455724327906342, 'precision': 0.75547494592646, 'recall': 0.7934641141531982, 'f1': 0.7740036702330252}\n",
            "Validation Results\n",
            "{'acc': 0.7706422018348624, 'precision': 0.7606837606837606, 'recall': 0.8018018018018018, 'f1': 0.7807017543859649}\n",
            "New best model 0.77\n",
            "EPOCH 3\n",
            "=================================\n",
            "Training Results\n",
            "{'acc': 0.7745351541689947, 'precision': 0.784944514357625, 'recall': 0.8118034028254336, 'f1': 0.7981480619794333}\n",
            "Validation Results\n",
            "{'acc': 0.7981651376146789, 'precision': 0.8160377358490566, 'recall': 0.7792792792792793, 'f1': 0.7972350230414746}\n",
            "New best model 0.80\n",
            "EPOCH 4\n",
            "=================================\n",
            "Training Results\n",
            "{'acc': 0.7914917945452892, 'precision': 0.8023996308260267, 'recall': 0.8229252940202088, 'f1': 0.812532856692251}\n",
            "Validation Results\n",
            "{'acc': 0.7878440366972477, 'precision': 0.8528610354223434, 'recall': 0.704954954954955, 'f1': 0.7718865598027127}\n",
            "EPOCH 5\n",
            "=================================\n",
            "Training Results\n",
            "{'acc': 0.8023674328556022, 'precision': 0.8136406855128592, 'recall': 0.8302373458908161, 'f1': 0.8218552354181307}\n",
            "Validation Results\n",
            "{'acc': 0.7993119266055045, 'precision': 0.8272506082725061, 'recall': 0.7657657657657657, 'f1': 0.7953216374269004}\n",
            "New best model 0.80\n",
            "EPOCH 6\n",
            "=================================\n",
            "Training Results\n",
            "{'acc': 0.8083704733566351, 'precision': 0.8185987261146497, 'recall': 0.8363425542487991, 'f1': 0.8273755179436758}\n",
            "Validation Results\n",
            "{'acc': 0.8027522935779816, 'precision': 0.8300970873786407, 'recall': 0.7702702702702703, 'f1': 0.7990654205607476}\n",
            "New best model 0.80\n",
            "EPOCH 7\n",
            "=================================\n",
            "Training Results\n",
            "{'acc': 0.8138277829030288, 'precision': 0.8249226402363835, 'recall': 0.8390165408552025, 'f1': 0.8319099014547161}\n",
            "Validation Results\n",
            "{'acc': 0.7958715596330275, 'precision': 0.7982062780269058, 'recall': 0.8018018018018018, 'f1': 0.8}\n",
            "EPOCH 8\n",
            "=================================\n",
            "Training Results\n",
            "{'acc': 0.8191421629136836, 'precision': 0.8293969966060719, 'recall': 0.8442935232731489, 'f1': 0.8367789673651747}\n",
            "Validation Results\n",
            "{'acc': 0.8027522935779816, 'precision': 0.8148148148148148, 'recall': 0.7927927927927928, 'f1': 0.8036529680365296}\n",
            "EPOCH 9\n",
            "=================================\n",
            "Training Results\n",
            "{'acc': 0.8233910682033757, 'precision': 0.834013003052688, 'recall': 0.8469201826829788, 'f1': 0.8404170384633447}\n",
            "Validation Results\n",
            "{'acc': 0.7947247706422018, 'precision': 0.796420581655481, 'recall': 0.8018018018018018, 'f1': 0.7991021324354658}\n",
            "EPOCH 10\n",
            "=================================\n",
            "Training Results\n",
            "{'acc': 0.8282116916360235, 'precision': 0.8381072143821899, 'recall': 0.8516529023403299, 'f1': 0.8448257649558104}\n",
            "Validation Results\n",
            "{'acc': 0.7970183486238532, 'precision': 0.8083140877598153, 'recall': 0.7882882882882883, 'f1': 0.798175598631699}\n",
            "Final result\n",
            "{'acc': 0.7946183415705657, 'precision': 0.8150765606595995, 'recall': 0.7612761276127613, 'f1': 0.7872582480091013}\n"
          ]
        },
        {
          "output_type": "execute_result",
          "data": {
            "text/plain": [
              "0.7946183415705657"
            ]
          },
          "metadata": {},
          "execution_count": 14
        }
      ]
    },
    {
      "cell_type": "markdown",
      "metadata": {
        "id": "tHtNnvvoj22N"
      },
      "source": [
        "## Same model with pre-trained word embeddings\n",
        "\n",
        "The models below are identical to the ones above, the only difference is that we are going to initialize the embeddings using our previously defined `EmbeddingsReader`.  First lets take a look at our CNN model again.  Notice we only run 5 epochs here instead of 10!"
      ]
    },
    {
      "cell_type": "code",
      "metadata": {
        "id": "cEzWqC2fkNSz",
        "outputId": "0160c072-ff0f-444b-91da-bc5dac9c56d5",
        "colab": {
          "base_uri": "https://localhost:8080/"
        }
      },
      "source": [
        "embeddings, embed_dim = EmbeddingsReader.from_binary(PRETRAINED_EMBEDDINGS_FILE, r.vocab)\n",
        "model  = ConvClassifier(embeddings, len(r.labels), embed_dim)\n",
        "num_params = sum(p.numel() for p in model.parameters() if p.requires_grad)\n",
        "print(f\"Model has {num_params} parameters\")\n",
        "\n",
        "\n",
        "model.to('cuda:0')\n",
        "loss = torch.nn.NLLLoss()\n",
        "loss = loss.to('cuda:0')\n",
        "\n",
        "learnable_params = [p for p in model.parameters() if p.requires_grad]\n",
        "optimizer = torch.optim.Adadelta(learnable_params, lr=1.0)\n",
        "\n",
        "fit(model, r.labels, optimizer, loss, 5, 50, train, valid, test)"
      ],
      "execution_count": 15,
      "outputs": [
        {
          "output_type": "stream",
          "name": "stderr",
          "text": [
            "<ipython-input-10-c5a91f4ea3df>:60: DeprecationWarning: The binary mode of fromstring is deprecated, as it behaves surprisingly on unicode inputs. Use frombuffer instead\n",
            "  vec = np.fromstring(raw, dtype=np.float32)\n"
          ]
        },
        {
          "output_type": "stream",
          "name": "stdout",
          "text": [
            "Model has 5442302 parameters\n",
            "EPOCH 1\n",
            "=================================\n",
            "Training Results\n"
          ]
        },
        {
          "output_type": "stream",
          "name": "stderr",
          "text": [
            "<ipython-input-5-d4e4d1ff9cc0>:19: DeprecationWarning: `np.int` is a deprecated alias for the builtin `int`. To silence this warning, use `int` by itself. Doing this will not modify any behavior and is safe. When replacing `np.int`, you may wish to use e.g. `np.int64` or `np.int32` to specify the precision. If you wish to review your current use, check the release note link for additional information.\n",
            "Deprecated in NumPy 1.20; for more details and guidance: https://numpy.org/devdocs/release/1.20.0-notes.html#deprecations\n",
            "  self._cm = np.zeros((nc, nc), dtype=np.int)\n"
          ]
        },
        {
          "output_type": "stream",
          "name": "stdout",
          "text": [
            "{'acc': 0.8308753784384298, 'precision': 0.8393798017779635, 'recall': 0.8557467048439386, 'f1': 0.847484239881887}\n",
            "Validation Results\n",
            "{'acc': 0.8348623853211009, 'precision': 0.8807106598984772, 'recall': 0.7815315315315315, 'f1': 0.8281622911694511}\n",
            "New best model 0.83\n",
            "EPOCH 2\n",
            "=================================\n",
            "Training Results\n",
            "{'acc': 0.879250529488962, 'precision': 0.8864531557722968, 'recall': 0.8946969876239381, 'f1': 0.8905559939230488}\n",
            "Validation Results\n",
            "{'acc': 0.8268348623853211, 'precision': 0.9150141643059491, 'recall': 0.7274774774774775, 'f1': 0.8105395232120451}\n",
            "EPOCH 3\n",
            "=================================\n",
            "Training Results\n",
            "{'acc': 0.8961811826769402, 'precision': 0.9015114235500878, 'recall': 0.9103859532880569, 'f1': 0.9059269550474486}\n",
            "Validation Results\n",
            "{'acc': 0.8451834862385321, 'precision': 0.8456375838926175, 'recall': 0.8513513513513513, 'f1': 0.8484848484848485}\n",
            "New best model 0.85\n",
            "EPOCH 4\n",
            "=================================\n",
            "Training Results\n",
            "{'acc': 0.9056145320357064, 'precision': 0.9104600154824181, 'recall': 0.9184315767055539, 'f1': 0.9144284233342758}\n",
            "Validation Results\n",
            "{'acc': 0.8428899082568807, 'precision': 0.8480725623582767, 'recall': 0.8423423423423423, 'f1': 0.8451977401129944}\n",
            "EPOCH 5\n",
            "=================================\n",
            "Training Results\n",
            "{'acc': 0.9131897974298671, 'precision': 0.9169166588544108, 'recall': 0.9257909557727348, 'f1': 0.921332438447137}\n",
            "Validation Results\n",
            "{'acc': 0.8474770642201835, 'precision': 0.8916876574307305, 'recall': 0.7972972972972973, 'f1': 0.8418549346016646}\n",
            "New best model 0.85\n",
            "Final result\n",
            "{'acc': 0.8687534321801208, 'precision': 0.8913551401869159, 'recall': 0.8393839383938394, 'f1': 0.8645892351274788}\n"
          ]
        },
        {
          "output_type": "execute_result",
          "data": {
            "text/plain": [
              "0.8687534321801208"
            ]
          },
          "metadata": {},
          "execution_count": 15
        }
      ]
    },
    {
      "cell_type": "markdown",
      "metadata": {
        "id": "QcnajM3klDx9"
      },
      "source": [
        "Much better!  And now the LSTM!"
      ]
    },
    {
      "cell_type": "code",
      "metadata": {
        "id": "zqJ12jfAkxoX",
        "outputId": "6f52555a-ac4f-4988-9f19-044c2a064f83",
        "colab": {
          "base_uri": "https://localhost:8080/"
        }
      },
      "source": [
        "model  = LSTMClassifier(embeddings, len(r.labels), embed_dim, 100, hidden_units=[100])\n",
        "\n",
        "num_params = sum(p.numel() for p in model.parameters() if p.requires_grad)\n",
        "print(f\"Model has {num_params} parameters\")\n",
        "\n",
        "\n",
        "model.to('cuda:0')\n",
        "loss = torch.nn.NLLLoss()\n",
        "loss = loss.to('cuda:0')\n",
        "\n",
        "learnable_params = [p for p in model.parameters() if p.requires_grad]\n",
        "optimizer = torch.optim.Adadelta(learnable_params, lr=1.0)\n",
        "\n",
        "fit(model, r.labels, optimizer, loss, 5, 50, train, valid, test)"
      ],
      "execution_count": 16,
      "outputs": [
        {
          "output_type": "stream",
          "name": "stdout",
          "text": [
            "Model has 5342502 parameters\n",
            "EPOCH 1\n",
            "=================================\n",
            "Training Results\n"
          ]
        },
        {
          "output_type": "stream",
          "name": "stderr",
          "text": [
            "<ipython-input-5-d4e4d1ff9cc0>:19: DeprecationWarning: `np.int` is a deprecated alias for the builtin `int`. To silence this warning, use `int` by itself. Doing this will not modify any behavior and is safe. When replacing `np.int`, you may wish to use e.g. `np.int64` or `np.int32` to specify the precision. If you wish to review your current use, check the release note link for additional information.\n",
            "Deprecated in NumPy 1.20; for more details and guidance: https://numpy.org/devdocs/release/1.20.0-notes.html#deprecations\n",
            "  self._cm = np.zeros((nc, nc), dtype=np.int)\n"
          ]
        },
        {
          "output_type": "stream",
          "name": "stdout",
          "text": [
            "{'acc': 0.8801470874858695, 'precision': 0.8925727866904337, 'recall': 0.8886864336591022, 'f1': 0.8906253705504303}\n",
            "Validation Results\n",
            "{'acc': 0.8405963302752294, 'precision': 0.8105906313645621, 'recall': 0.8963963963963963, 'f1': 0.8513368983957218}\n",
            "New best model 0.84\n",
            "EPOCH 2\n",
            "=================================\n",
            "Training Results\n",
            "{'acc': 0.9124361689686984, 'precision': 0.9250634244411469, 'recall': 0.9146217373813862, 'f1': 0.9198129484418319}\n",
            "Validation Results\n",
            "{'acc': 0.8623853211009175, 'precision': 0.8432203389830508, 'recall': 0.8963963963963963, 'f1': 0.868995633187773}\n",
            "New best model 0.86\n",
            "EPOCH 3\n",
            "=================================\n",
            "Training Results\n",
            "{'acc': 0.9243253076233416, 'precision': 0.9344223202575415, 'recall': 0.9272580988665137, 'f1': 0.9308264246858445}\n",
            "Validation Results\n",
            "{'acc': 0.8727064220183486, 'precision': 0.8899297423887588, 'recall': 0.8558558558558559, 'f1': 0.8725602755453502}\n",
            "New best model 0.87\n",
            "EPOCH 4\n",
            "=================================\n",
            "Training Results\n",
            "{'acc': 0.9327841374202518, 'precision': 0.9412268595631276, 'recall': 0.9360372938309, 'f1': 0.938624903600878}\n",
            "Validation Results\n",
            "{'acc': 0.8692660550458715, 'precision': 0.8602620087336245, 'recall': 0.8873873873873874, 'f1': 0.8736141906873613}\n",
            "EPOCH 5\n",
            "=================================\n",
            "Training Results\n",
            "{'acc': 0.9377996647652708, 'precision': 0.9450144886228683, 'recall': 0.9415035850351404, 'f1': 0.9432557698462559}\n",
            "Validation Results\n",
            "{'acc': 0.8761467889908257, 'precision': 0.8853211009174312, 'recall': 0.8693693693693694, 'f1': 0.8772727272727273}\n",
            "New best model 0.88\n",
            "Final result\n",
            "{'acc': 0.8962108731466227, 'precision': 0.8913043478260869, 'recall': 0.9020902090209021, 'f1': 0.896664844177146}\n"
          ]
        },
        {
          "output_type": "execute_result",
          "data": {
            "text/plain": [
              "0.8962108731466227"
            ]
          },
          "metadata": {},
          "execution_count": 16
        }
      ]
    },
    {
      "cell_type": "markdown",
      "metadata": {
        "id": "NpfM53E-lS9y"
      },
      "source": [
        "#### A quick note about these models on this data\n",
        "\n",
        "Both of these models are surprisingly strong baselines and do fairly well on this dataset averaged over many runs.  Even with only 2-5 epochs of data it is quite common to see scores higher than in the Kim 2014 paper."
      ]
    },
    {
      "cell_type": "markdown",
      "metadata": {
        "id": "O4mLnxyIlM4u"
      },
      "source": [
        "## Conclusions\n",
        "\n",
        "### Its not hard to get good performance with a Deep Learning model for Text Classification\n",
        "\n",
        "We saw above how to get good results on the SST-2 dataset using fairly simple deep learning models, even with very few training epochs.  This behavior is not limited to a single dataset -- these results have been shown over and over.  Also, using PyTorch, we were able to code an entire pipeline in this minimalistic notebook.\n",
        "\n",
        "### Pre-trained embeddings often help\n",
        "\n",
        "We can see that pre-trained embeddings can have a massive impact on the performance of our models, especially for smaller datasets.  The `word2vec` algorithm caused an explosion in the NLP community -- even though pre-training embeddings had been widely studied prior to that work, the results were reliable and fast.  `GloVe` and `fastText` embeddings came shortly thereafter, and all 3 models are in quite common use today.  The code above can load any of these flavors of embeddings and incorporate them into downstream models for large improvements.\n",
        "\n",
        "For large datasets, like those used in Language Modeling and Neural Machine Translation, models are typically trained from random embeddings, which are sufficient in those cases.\n",
        "\n",
        "### Incorporating pre-trained embeddings into your model is simple\n",
        "\n",
        "The file formats are very simple to read and can be incorporated with only a few lines of code.  In some cases, memory-mapping the file can increase the loading speed.  This is implemented in [Baseline](https://github.com/dpressel/baseline/)\n",
        "\n",
        "### Some Further Resources\n",
        "\n",
        "- [The Unreasonable Effectiveness of Recurrent Neural Networks, Karpathy, 2015](https://karpathy.github.io/2015/05/21/rnn-effectiveness/)\n",
        "- Tensorflow tutorial for word2vec: https://www.tensorflow.org/tutorials/representation/word2vec\n",
        "- Tensorflow docs on feature columns (for images above): https://www.tensorflow.org/guide/feature_columns\n",
        "- Xin Rong, wrote some amazing software to visualize word embeddings and the training process.  Sadly, Xin is no longer with us -- he was a great researcher and an awesome guy.  We miss him.\n",
        "  - https://ronxin.github.io/wevi/\n",
        "  - Accompanying talk from a2-dlearn 2015: https://www.youtube.com/channel/UCVdeq2cIxnujw2kTdzg2N5g\n",
        "  - https://ronxin.github.io/lamvi/dist/#model=word2vec&backend=browser&query_in=darcy&query_out=G_bennet,B_circumstances\n",
        "  - Accompanying paper for Lamvi [Visual Tools for Debugging Neural Language Models, Rong & Adar, 2016](http://www.cond.org/ICML16_NeuralVis.pdf)\n",
        "\n"
      ]
    },
    {
      "cell_type": "markdown",
      "source": [
        "**One thing I noticed with the both of these is that wether it had pre-read embeddings or not, the LSTM still had the higher final results score (if only slightly higher compared to the CNN model). One thing I want to test is how many epochs it will take until the new best model score is 1.00? After doing some research, I found that it might not be possible for such a thing to occur. Though I am still curious as to how I can call the fit funciton in the LSTM under the conditions that it goes on for an indefinet amount of epochs until it acheives a certain best model score?**\n",
        "\n",
        "-Brian Mann"
      ],
      "metadata": {
        "id": "B73J4LjiUC9t"
      }
    }
  ]
}